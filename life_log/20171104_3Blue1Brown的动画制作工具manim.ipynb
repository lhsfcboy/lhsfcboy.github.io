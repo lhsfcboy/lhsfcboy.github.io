{
 "cells": [
  {
   "cell_type": "markdown",
   "metadata": {},
   "source": [
    "Ref: \n",
    "\n",
    "- 项目的github\n",
    "\n",
    "https://github.com/3b1b/manim\n",
    "\n",
    "- Windows下的安装教程\n",
    "\n",
    "https://www.bilibili.com/read/cv17444\n",
    "\n",
    "https://www.bilibili.com/read/cv19963\n",
    "\n",
    "- Ubuntu 17下的安装教程\n",
    "\n",
    "https://www.zhihu.com/question/57357012\n",
    "\n",
    "https://gist.github.com/Croxed/f7f451608143f253b50803785f7ce3f0\n",
    "\n",
    "\n",
    "- Demo Scripts\n",
    "https://github.com/Solara570/demo-solara"
   ]
  },
  {
   "cell_type": "markdown",
   "metadata": {},
   "source": [
    "\n",
    "```sh \n",
    "cd \"$(mktemp -d)\"\n",
    "\n",
    "sudo apt -y install git\n",
    "sudo apt-get -y install python-dev python-tk build-essential\n",
    "sudo apt -y install python-pip\n",
    "\n",
    "sudo apt -y install texlive-latex-base texlive-latex-extra  texlive-fonts-extra\n",
    "# sudo apt-get -y install texlive-full  \n",
    "sudo apt -y install ffmpeg\n",
    "\n",
    "\n",
    "cd ~\n",
    "git clone https://github.com/3b1b/manim.git --depth=1\n",
    "cd manim\n",
    "sudo pip install -r requirements.txt\n",
    "\n",
    "\n",
    "python extract_scene.py -w -a example_scenes.py\n",
    "# 待结束以后，在 files/movies 目录下就有好几个 mp4 文件了。\n",
    "\n",
    "python extract_scene.py -p example_scenes.py\n",
    "# -p代表预览模式（preview），这个模式会用低质量展示当前场景中的动画。你也可以换成-w或者-s，\n",
    "# -w代表写入模式（write），这个模式会把当前场景的内容写成一个视频，写入完成会告诉你放在了哪个路径下；\n",
    "# -s代表保存模式（save），这个模式会把场景的最后一帧写成图片，告诉你路径之后再直接显示出来。\n",
    "# 最后一个参数就是包含场景的*.py文件。example_scenes.py只是个样例，你也可以自己新建一个*.py文件，在里面写场景。\n",
    "\n",
    "``` "
   ]
  },
  {
   "cell_type": "markdown",
   "metadata": {},
   "source": [
    "```sh\n",
    "# install on CentOS 6\n",
    "# !!!WIP!!!\n",
    "yum -y install texlive \n",
    "yum -y install texlive texlive-latex texlive-xetex\n",
    "yum -y install texlive-collection-latex\n",
    "yum -y install texlive-collection-latexrecommended\n",
    "yum -y install texlive-xetex-def\n",
    "yum -y install texlive-collection-xetex\n",
    "yum -y install texlive-collection-latexextra\n",
    "yum -y install texlive-scheme-full\n",
    "yum -y install texlive-doublestroke.noarch\n",
    "\n",
    "\n",
    "```"
   ]
  },
  {
   "cell_type": "markdown",
   "metadata": {
    "collapsed": true
   },
   "source": [
    "## manim的整体结构\n",
    "\n",
    "既然是用于生成数学视频的引擎，manim里面就要包含几点要素：摄像机、场景、物件和动画。这些你都能在manim的源码中找到：\n",
    "\n",
    "- 摄像机：./camera.py\n",
    "\n",
    "camera.py中有Camera类的定义，包括摄像机应有的基础功能，如捕捉图像、显示图像的方法等。\n",
    "\n",
    "- 场景：./scene/*\n",
    "\n",
    "scene.py中有Scene类的定义，包括场景应有的基础功能，如所选的摄像机类型、添加/移除物件，定时更新物件的状态，获取帧信息，将场景信息写入视频等等。功能很多，不一而足。除此之外，scene文件夹下还有几个Scene的子类，是为了满足不同的场景需求而设置的。\n",
    "\n",
    "- 物件：./mobject/*\n",
    "\n",
    "这里使用的物件是数学物件（Mathematical Objects），类名为Mobject。mobject.py中有Mobject类的定义，包括物件的基础特征，如描绘物件的方法，对物件实施变换的方法等。除此之外，mobject文件夹下还有几个相应的子类。\n",
    "\n",
    "- 动画：./animation/*\n",
    "\n",
    "animation.py中有Animation类的定义，包括动画的基础特征，如动画长度，播放速率等。除此之外，animation文件夹下还有几个相应的子类。\n",
    "\n",
    "你会发现，这四个要素分离出来之后，manim剩下的东西差不多都是这四点的组合：\n",
    "\n",
    "./old_projects/*：Grant之前制作视频时使用的源码，可供学习参考。\n",
    "\n",
    "./topics/*：针对不同数学主题设计的要素。很多已经包装好的东西都可以在这里找到。\n",
    "\n",
    "根目录下还有一些其他杂项：包括一些实用参数和脚本、参考样例与模板等。\n"
   ]
  },
  {
   "cell_type": "markdown",
   "metadata": {},
   "source": [
    "## 拆解example_scenes.py\n",
    "\n",
    "- 环境设置与模块导入\n",
    "\n",
    "- SquareToCircle\n",
    "\n",
    "\n",
    "建立一个场景，名字叫做SquareToCircle。这里的SquareToCircle继承了Scene类，因此Scene能做的事，SquareToCircle同样\n",
    "\n",
    "创建场景的方法。construct已经在Scene类里面实现过了，但是这个construct并不是我们想要的，所以需要\n",
    "\n",
    "创建一个圆，命名为circle。Circle()是与几何相关的数学物件，可以在topics/geometry.py中\n",
    "\n",
    "创建一个正方形，命名为square。Square()也是与几何相关的数学物件，同样可以在topics/geometry.py中\n",
    "\n",
    "将square旋转π/8。rotate()是数学物件的基础变换之一，代表旋转，可以在mobject/mobject.py中\n",
    "\n",
    "播放square的创造过程。play()是场景的方法，也就是播放，可以在scene/scene.py中找到。ShowCreation()是动画，可以在animation/simple_animations.py中\n",
    "\n",
    "播放square到circle的变换过程。Transform()同样是动画，可以在animation/transform.py中\n",
    "\n",
    "停顿1秒，随后结束。dither()是场景的方法，也就是停顿，可以在scene/scene.py中找到。\n",
    "\n",
    "所以这个场景的完整效果就是：画出一个转过π/8角度的正方形，然后将它变换成一个圆形。"
   ]
  },
  {
   "cell_type": "markdown",
   "metadata": {},
   "source": [
    "## WarpSquare\n",
    "ApplyPointwiseFunction是说对一个数学物件上的所有点进行一个指定的变换，可以在animation/transform.py中找到。从参数能看出来，ApplyPointwiseFunction接收两个参数，第一个参数是变换，第二个参数是数学物件。\n",
    "\n",
    "Lambda表达式就是指定的变换，这其实就是复平面内的e^z变换。细节略过不说，直接上效果："
   ]
  },
  {
   "cell_type": "markdown",
   "metadata": {},
   "source": [
    "## WriteStuff\n",
    "将“Stuff”字样放大三倍，然后写到屏幕上。放大3倍由scale(3)完成，书写的效果由Write()完成。"
   ]
  }
 ],
 "metadata": {
  "kernelspec": {
   "display_name": "Python 3",
   "language": "python",
   "name": "python3"
  },
  "language_info": {
   "codemirror_mode": {
    "name": "ipython",
    "version": 3
   },
   "file_extension": ".py",
   "mimetype": "text/x-python",
   "name": "python",
   "nbconvert_exporter": "python",
   "pygments_lexer": "ipython3",
   "version": "3.5.2"
  }
 },
 "nbformat": 4,
 "nbformat_minor": 2
}
