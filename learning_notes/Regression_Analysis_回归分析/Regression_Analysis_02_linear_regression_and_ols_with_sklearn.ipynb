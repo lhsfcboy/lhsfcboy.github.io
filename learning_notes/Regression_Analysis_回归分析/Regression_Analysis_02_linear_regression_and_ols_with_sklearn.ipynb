{
 "cells": [
  {
   "cell_type": "code",
   "execution_count": null,
   "metadata": {
    "collapsed": true
   },
   "outputs": [],
   "source": [
    "import numpy as np\n",
    "import matplotlib.pyplot as plt\n",
    "%matplotlib inline \n",
    "\n",
    "# sklearn包中的linear_model.LinearRegression方法\n",
    "# http://scikit-learn.org/stable/modules/linear_model.html\n",
    "from sklearn import linear_model\n",
    "import pandas as pd\n",
    "\n",
    "# Say Y = 1 + 10*X\n",
    "nsample = 100\n",
    "x = np.linspace(0, 10, nsample)\n",
    "X = sm.add_constant(x)\n",
    "beta = np.array([1, 10])\n",
    "e = np.random.normal(size=nsample)\n",
    "y = np.dot(X, beta) + e\n",
    "# print(y)\n",
    "print (x.shape, y.shape)\n",
    "regr = linear_model.LinearRegression()\n",
    "regr.fit(x, y)\n",
    "\n",
    "print(regr.intercept_)   #截距\n",
    "print(regr.coef_     )   #回归系数\n",
    "\n",
    "# predict = regr.predict(11)\n",
    "# predictions = {}\n",
    "# predictions['intercept'] = regr.intercept_   #截距\n",
    "# predictions['coefficient'] = regr.coef_   #回归系数\n",
    "# predictions['predicted_value'] = predict\n",
    "\n",
    "# print(clf.coef_,clf.intercept_)\n",
    "# print(clf.score(X,Y))"
   ]
  }
 ],
 "metadata": {
  "kernelspec": {
   "display_name": "Python 3",
   "language": "python",
   "name": "python3"
  },
  "language_info": {
   "codemirror_mode": {
    "name": "ipython",
    "version": 3
   },
   "file_extension": ".py",
   "mimetype": "text/x-python",
   "name": "python",
   "nbconvert_exporter": "python",
   "pygments_lexer": "ipython3",
   "version": "3.5.2"
  }
 },
 "nbformat": 4,
 "nbformat_minor": 2
}
