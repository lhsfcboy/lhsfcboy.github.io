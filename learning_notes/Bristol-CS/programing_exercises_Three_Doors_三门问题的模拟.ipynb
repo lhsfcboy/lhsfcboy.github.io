{
 "cells": [
  {
   "cell_type": "markdown",
   "metadata": {},
   "source": [
    "考虑一个非常违反直觉的概率题例子：一个选手去参加一个TV秀，有三扇门，其中一扇门后有奖品，这扇门只有主持人知道。选手先随机选一扇门，但并不打开，主持人看到后，会打开其余两扇门中没有奖品的一扇门。然后，主持人问选手，是否要改变一开始的选择？\n",
    "\n",
    "这个问题的答案是应该改变一开始的选择。在第一次选择的时候，选错的概率是2/3，选对的概率是1/3。第一次选择之后，主持人相当于帮忙剔除了一个错误答案，所以如果一开始选的是错的，这时候换掉就选对了；而如果一开始就选对，则这时候换掉就错了。根据以上，一开始选错的概率就是换掉之后选对的概率（2/3），这个概率大于一开始就选对的概率（1/3），所以应该换。虽然道理上是这样，但是还是有些绕，要是通过推理就是搞不明白怎么办，没关系，用随机模拟就可以轻松得到答案："
   ]
  },
  {
   "cell_type": "code",
   "execution_count": 1,
   "metadata": {},
   "outputs": [
    {
     "name": "stdout",
     "output_type": "stream",
     "text": [
      "You win 6616 out of 10000 tests if you changed your mind\n",
      "You win 3384 out of 10000 tests if you insist on the initial choice\n"
     ]
    }
   ],
   "source": [
    "import numpy.random as random\n",
    "\n",
    "random.seed(42)\n",
    "\n",
    "# 做10000次实验\n",
    "n_tests = 10000\n",
    "\n",
    "# 生成每次实验的奖品所在的门的编号\n",
    "# 0表示第一扇门，1表示第二扇门，2表示第三扇门\n",
    "winning_doors = random.randint(0, 3, n_tests)\n",
    "\n",
    "# 记录如果换门的中奖次数\n",
    "change_mind_wins = 0\n",
    "\n",
    "# 记录如果坚持的中奖次数\n",
    "insist_wins = 0\n",
    "\n",
    "# winning_door就是获胜门的编号\n",
    "for winning_door in winning_doors:\n",
    "\n",
    "    # 随机挑了一扇门\n",
    "    first_try = random.randint(0, 3)\n",
    "    \n",
    "    # 其他门的编号\n",
    "    remaining_choices = [i for i in range(3) if i != first_try]\n",
    "  \n",
    "    # 没有奖品的门的编号，这个信息只有主持人知道\n",
    "    wrong_choices = [i for i in range(3) if i != winning_door]\n",
    "\n",
    "    # 一开始选择的门主持人没法打开，所以从主持人可以打开的门中剔除\n",
    "    if first_try in wrong_choices:\n",
    "        wrong_choices.remove(first_try)\n",
    "    \n",
    "    # 这时wrong_choices变量就是主持人可以打开的门的编号\n",
    "    # 注意此时如果一开始选择正确，则可以打开的门是两扇，主持人随便开一扇门\n",
    "    # 如果一开始选到了空门，则主持人只能打开剩下一扇空门\n",
    "    screened_out = random.choice(wrong_choices)\n",
    "    remaining_choices.remove(screened_out)\n",
    "    \n",
    "    # 所以虽然代码写了好些行，如果策略固定的话，\n",
    "    # 改变主意的获胜概率就是一开始选错的概率，是2/3\n",
    "    # 而坚持选择的获胜概率就是一开始就选对的概率，是1/3\n",
    "    \n",
    "    # 现在除了一开始选择的编号，和主持人帮助剔除的错误编号，只剩下一扇门\n",
    "    # 如果要改变注意则这扇门就是最终的选择\n",
    "    changed_mind_try = remaining_choices[0]\n",
    "\n",
    "    # 结果揭晓，记录下来\n",
    "    change_mind_wins += 1 if changed_mind_try == winning_door else 0\n",
    "    insist_wins += 1 if first_try == winning_door else 0\n",
    "\n",
    "# 输出10000次测试的最终结果，和推导的结果差不多：\n",
    "# You win 6616 out of 10000 tests if you changed your mind\n",
    "# You win 3384 out of 10000 tests if you insist on the initial choice\n",
    "print(\n",
    "    'You win {1} out of {0} tests if you changed your mind\\n'\n",
    "    'You win {2} out of {0} tests if you insist on the initial choice'.format(\n",
    "        n_tests, change_mind_wins, insist_wins\n",
    "        )\n",
    ")"
   ]
  }
 ],
 "metadata": {
  "kernelspec": {
   "display_name": "Python 3",
   "language": "python",
   "name": "python3"
  },
  "language_info": {
   "codemirror_mode": {
    "name": "ipython",
    "version": 3
   },
   "file_extension": ".py",
   "mimetype": "text/x-python",
   "name": "python",
   "nbconvert_exporter": "python",
   "pygments_lexer": "ipython3",
   "version": "3.6.1"
  }
 },
 "nbformat": 4,
 "nbformat_minor": 2
}
