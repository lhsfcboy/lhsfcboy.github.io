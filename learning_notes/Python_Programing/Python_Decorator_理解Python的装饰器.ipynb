{
 "cells": [
  {
   "cell_type": "code",
   "execution_count": 22,
   "metadata": {
    "collapsed": false
   },
   "outputs": [
    {
     "name": "stdout",
     "output_type": "stream",
     "text": [
      "<function message at 0x7fa154e11730>\n",
      "HELLO!\n"
     ]
    }
   ],
   "source": [
    "# 1)函数也是对象\n",
    "\n",
    "def message(word='hello'):\n",
    "    return word.upper()+'!'\n",
    "\n",
    "print (message)\n",
    "print (message())"
   ]
  },
  {
   "cell_type": "code",
   "execution_count": 25,
   "metadata": {
    "collapsed": false
   },
   "outputs": [
    {
     "name": "stdout",
     "output_type": "stream",
     "text": [
      "Run in show()\n",
      "hello\n"
     ]
    }
   ],
   "source": [
    "# 2)函数可以嵌套，定义在另外一个函数内部\n",
    "\n",
    "def show():\n",
    "    print ('Run in show()')\n",
    "    def message(word='hello'):\n",
    "        return word\n",
    "    print (message())\n",
    "\n",
    "show()"
   ]
  },
  {
   "cell_type": "code",
   "execution_count": 31,
   "metadata": {
    "collapsed": false
   },
   "outputs": [
    {
     "name": "stdout",
     "output_type": "stream",
     "text": [
      "<function getWordType.<locals>.lower at 0x7fa15439c6a8>\n",
      "hello...\n"
     ]
    }
   ],
   "source": [
    "# 3)函数作为参数返回\n",
    "\n",
    "def getWordType(kind='lower'):\n",
    "    def capitalize(word='hello'):\n",
    "        return word.capitalize()+\"!\"\n",
    "    def lower(word=\"hello\"):\n",
    "        return word.lower()+\"...\"\n",
    "    \n",
    "    if kind == \"lower\":\n",
    "        return lower\n",
    "    else:\n",
    "        return capitalize\n",
    "        \n",
    "wordType=getWordType()\n",
    "print (wordType)\n",
    "print (wordType())"
   ]
  },
  {
   "cell_type": "code",
   "execution_count": 34,
   "metadata": {
    "collapsed": false
   },
   "outputs": [
    {
     "name": "stdout",
     "output_type": "stream",
     "text": [
      "I will call a func!\n",
      "leo\n"
     ]
    }
   ],
   "source": [
    "# 4)函数作为参数传入\n",
    "\n",
    "def getName(name=\"leo\"):\n",
    "    return name\n",
    "\n",
    "def funCaller(func):\n",
    "    print (\"I will call a func!\")\n",
    "    print (func())\n",
    "    \n",
    "funCaller(getName)"
   ]
  },
  {
   "cell_type": "code",
   "execution_count": 37,
   "metadata": {
    "collapsed": false
   },
   "outputs": [
    {
     "name": "stdout",
     "output_type": "stream",
     "text": [
      "I am a stand alone function, don't you dare modify me\n"
     ]
    }
   ],
   "source": [
    "# 一个装饰器是一个需要另一个函数作为参数的函数\n",
    "def my_shiny_new_decorator(a_function_to_decorate):\n",
    " \n",
    "    # 在装饰器内部动态定义一个函数：wrapper(原意：包装纸).\n",
    "    # 这个函数将被包装在原始函数的四周\n",
    "    # 因此就可以在原始函数之前和之后执行一些代码.\n",
    "    def the_wrapper_around_the_original_function():\n",
    " \n",
    "        # 把想要在调用原始函数前运行的代码放这里\n",
    "        print (\"Before the function runs\")\n",
    " \n",
    "        # 调用原始函数（需要带括号）\n",
    "        a_function_to_decorate()\n",
    " \n",
    "        # 把想要在调用原始函数后运行的代码放这里\n",
    "        print (\"After the function runs\")\n",
    " \n",
    "    # 直到现在，\"a_function_to_decorate\"还没有执行过 (HAS NEVER BEEN EXECUTED).\n",
    "    # 我们把刚刚创建的 wrapper 函数返回.\n",
    "    # wrapper 函数包含了这个函数，还有一些需要提前后之后执行的代码，\n",
    "    # 可以直接使用了（It's ready to use!）\n",
    "    return the_wrapper_around_the_original_function\n",
    " \n",
    "# Now imagine you create a function you don't want to ever touch again.\n",
    "def a_stand_alone_function():\n",
    "    print (\"I am a stand alone function, don't you dare modify me\")\n",
    " \n",
    "a_stand_alone_function()\n",
    "#outputs: I am a stand alone function, don't you dare modify me"
   ]
  },
  {
   "cell_type": "code",
   "execution_count": 39,
   "metadata": {
    "collapsed": false
   },
   "outputs": [
    {
     "name": "stdout",
     "output_type": "stream",
     "text": [
      "Before the function runs\n",
      "I am a stand alone function, don't you dare modify me\n",
      "After the function runs\n"
     ]
    }
   ],
   "source": [
    "# 现在，你可以装饰一下来修改它的行为.\n",
    "# 只要简单的把它传递给装饰器，后者能用任何你想要的代码动态的包装\n",
    "# 而且返回一个可以直接使用的新函数:\n",
    " \n",
    "a_stand_alone_function_decorated = my_shiny_new_decorator(a_stand_alone_function)\n",
    "a_stand_alone_function_decorated()\n",
    "#outputs:\n",
    "#Before the function runs\n",
    "#I am a stand alone function, don't you dare modify me\n",
    "#After the function runs"
   ]
  },
  {
   "cell_type": "code",
   "execution_count": 41,
   "metadata": {
    "collapsed": false
   },
   "outputs": [
    {
     "name": "stdout",
     "output_type": "stream",
     "text": [
      "Before the function runs\n",
      "Before the function runs\n",
      "I am a stand alone function, don't you dare modify me\n",
      "After the function runs\n",
      "After the function runs\n"
     ]
    }
   ],
   "source": [
    "# 现在你大概希望，每次调用 a_stand_alone_function 时，实际调用的是a_stand_alone_function_decorated 。\n",
    "# 这很容易，只要把 my_shiny_new_decorator 返回的函数覆盖 a_stand_alone_function 就可以了：\n",
    "a_stand_alone_function = my_shiny_new_decorator(a_stand_alone_function)\n",
    "a_stand_alone_function()\n",
    "#outputs:\n",
    "#Before the function runs\n",
    "#I am a stand alone function, don't you dare modify me\n",
    "#After the function runs"
   ]
  },
  {
   "cell_type": "code",
   "execution_count": 44,
   "metadata": {
    "collapsed": false
   },
   "outputs": [
    {
     "name": "stdout",
     "output_type": "stream",
     "text": [
      "Before the function runs\n",
      "Leave me alone\n",
      "After the function runs\n"
     ]
    }
   ],
   "source": [
    "# 用装饰器的语法来重写一下前面的例子：\n",
    "@my_shiny_new_decorator\n",
    "def another_stand_alone_function():\n",
    "    print (\"Leave me alone\")\n",
    " \n",
    "another_stand_alone_function() \n",
    "#outputs: \n",
    "#Before the function runs\n",
    "#Leave me alone\n",
    "#After the function runs"
   ]
  },
  {
   "cell_type": "code",
   "execution_count": 45,
   "metadata": {
    "collapsed": true
   },
   "outputs": [],
   "source": [
    "# @decorator 只是下面这条语句的简写(shortcut)：\n",
    "\n",
    "another_stand_alone_function = my_shiny_new_decorator(another_stand_alone_function)\n",
    "# 装饰器其实就是装饰器模式的一个python化的变体（pythonic variant）。\n",
    "# 为了方便开发，python已经内置了好几种经典的设计模式，比如迭代器（iterators）。 \n",
    "# 当然，你还可以堆积使用装饰器(you can cumulate decorators)："
   ]
  },
  {
   "cell_type": "code",
   "execution_count": null,
   "metadata": {
    "collapsed": true
   },
   "outputs": [],
   "source": [
    "# https://www.biaodianfu.com/python-decorator.html\n"
   ]
  }
 ],
 "metadata": {
  "kernelspec": {
   "display_name": "Python 3",
   "language": "python",
   "name": "python3"
  },
  "language_info": {
   "codemirror_mode": {
    "name": "ipython",
    "version": 3
   },
   "file_extension": ".py",
   "mimetype": "text/x-python",
   "name": "python",
   "nbconvert_exporter": "python",
   "pygments_lexer": "ipython3",
   "version": "3.5.2"
  }
 },
 "nbformat": 4,
 "nbformat_minor": 1
}
