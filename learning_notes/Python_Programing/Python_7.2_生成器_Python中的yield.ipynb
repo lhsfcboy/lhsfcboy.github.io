{
 "cells": [
  {
   "cell_type": "raw",
   "metadata": {},
   "source": [
    "# 生成斐波那契數列"
   ]
  },
  {
   "cell_type": "code",
   "execution_count": 4,
   "metadata": {
    "collapsed": false,
    "deletable": true,
    "editable": true
   },
   "outputs": [
    {
     "name": "stdout",
     "output_type": "stream",
     "text": [
      "1 1 2 3 5\n"
     ]
    }
   ],
   "source": [
    "# 生成斐波那契數列\n",
    "def fab(max): \n",
    "    n, a, b = 0, 0, 1 \n",
    "    while n < max: \n",
    "        print b, \n",
    "        a, b = b, a + b \n",
    "        n = n + 1\n",
    "        \n",
    "fab(5)"
   ]
  },
  {
   "cell_type": "code",
   "execution_count": 6,
   "metadata": {
    "collapsed": false,
    "deletable": true,
    "editable": true
   },
   "outputs": [
    {
     "name": "stdout",
     "output_type": "stream",
     "text": [
      "1 1 2 3 5\n"
     ]
    }
   ],
   "source": [
    "# 直接在 fab 函数中用 print 打印数字会导致该函数可复用性较差，\n",
    "# 因为 fab 函数返回 None，其他函数无法获得该函数生成的数列。\n",
    "# 要提高 fab 函数的可复用性，最好不要直接打印出数列，而是返回一个 List\n",
    "def fab(max): \n",
    "    n, a, b = 0, 0, 1 \n",
    "    L = [] \n",
    "    while n < max: \n",
    "        L.append(b) \n",
    "        a, b = b, a + b \n",
    "        n = n + 1 \n",
    "    return L\n",
    "\n",
    "for n in fab(5): \n",
    "    print n,  "
   ]
  },
  {
   "cell_type": "code",
   "execution_count": 19,
   "metadata": {
    "collapsed": false,
    "deletable": true,
    "editable": true
   },
   "outputs": [
    {
     "name": "stdout",
     "output_type": "stream",
     "text": [
      "1 1 2 3 5 \n",
      "------------------------------------------------------------\n",
      "1\n",
      "1\n",
      "2\n",
      "3\n",
      "5\n",
      "<type 'exceptions.Exception'> : \n"
     ]
    }
   ],
   "source": [
    "# 该函数在运行中占用的内存会随着参数 max 的增大而增大，\n",
    "# 如果要控制内存占用，最好不要用 List\n",
    "# 来保存中间结果，而是通过 iterable 对象来迭代\n",
    "\n",
    "# for i in range(1000): pass\n",
    "# 会导致生成一个 1000 个元素的 List，而代码：\n",
    "# for i in xrange(1000): pass\n",
    "# 则不会生成一个 1000 个元素的 List，而是在每次迭代中返回下一个数值，内存空间占用很小。\n",
    "# 因为 xrange 不返回 List，而是返回一个 iterable 对象。\n",
    "# 利用 iterable 我们可以把 fab 函数改写为一个支持 iterable 的 class，以下是第三个版本的 Fab：\n",
    "\n",
    "class Fab(object): \n",
    "\n",
    "    def __init__(self, max): \n",
    "        self.max = max \n",
    "        self.n, self.a, self.b = 0, 0, 1 \n",
    "\n",
    "    def __iter__(self): \n",
    "        return self \n",
    "\n",
    "    def next(self): \n",
    "        if self.n < self.max: \n",
    "            r = self.b \n",
    "            self.a, self.b = self.b, self.a + self.b \n",
    "            self.n = self.n + 1 \n",
    "            return r \n",
    "        raise StopIteration()\n",
    "        \n",
    "# Fab 类通过 next() 不断返回数列的下一个数，内存占用始终为常数：\n",
    "for n in Fab(5): \n",
    "    print n,\n",
    "\n",
    "print \"\\n\"+\"-\"*60\n",
    "    \n",
    "fab5 = Fab(5)\n",
    "print fab5.next()\n",
    "print fab5.next()\n",
    "print fab5.next()\n",
    "print fab5.next()\n",
    "print fab5.next()\n",
    "try:\n",
    "    print fab5.next()\n",
    "except Exception,e:\n",
    "    print Exception,\":\",e"
   ]
  },
  {
   "cell_type": "code",
   "execution_count": 22,
   "metadata": {
    "collapsed": false,
    "deletable": true,
    "editable": true
   },
   "outputs": [
    {
     "name": "stdout",
     "output_type": "stream",
     "text": [
      "1 1 2 3 5\n"
     ]
    }
   ],
   "source": [
    "# 然而，使用 class 改写的这个版本，代码远远没有第一版的 fab 函数来得简洁。\n",
    "# 如果我们想要保持第一版 fab 函数的简洁性，同时又要获得 iterable 的效果，yield 就派上用场了\n",
    "def fab(max): \n",
    "    n, a, b = 0, 0, 1 \n",
    "    while n < max: \n",
    "        yield b \n",
    "        # print b \n",
    "        a, b = b, a + b \n",
    "        n = n + 1 \n",
    "\n",
    "for n in fab(5): \n",
    "    print n,  "
   ]
  },
  {
   "cell_type": "raw",
   "metadata": {
    "deletable": true,
    "editable": true
   },
   "source": [
    "https://www.ibm.com/developerworks/cn/opensource/os-cn-python-yield/\n",
    "http://www.liaoxuefeng.com/wiki/0014316089557264a6b348958f449949df42a6d3a2e542c000/0014318435599930270c0381a3b44db991cd6d858064ac0000"
   ]
  }
 ],
 "metadata": {
  "kernelspec": {
   "display_name": "Python 2",
   "language": "python",
   "name": "python2"
  },
  "language_info": {
   "codemirror_mode": {
    "name": "ipython",
    "version": 2
   },
   "file_extension": ".py",
   "mimetype": "text/x-python",
   "name": "python",
   "nbconvert_exporter": "python",
   "pygments_lexer": "ipython2",
   "version": "2.7.12"
  }
 },
 "nbformat": 4,
 "nbformat_minor": 1
}
