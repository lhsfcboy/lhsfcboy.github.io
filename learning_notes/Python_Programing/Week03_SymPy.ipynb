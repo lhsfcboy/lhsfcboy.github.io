{
 "cells": [
  {
   "cell_type": "code",
   "execution_count": 1,
   "metadata": {
    "collapsed": false
   },
   "outputs": [
    {
     "name": "stdout",
     "output_type": "stream",
     "text": [
      "1 + x**2/2 + 5*x**4/24 + 61*x**6/720 + 277*x**8/8064 + O(x**10)\n"
     ]
    }
   ],
   "source": [
    "from sympy import *\n",
    "\n",
    "x=Symbol('x')\n",
    "# x, y = symbols('xy')\n",
    "print (1/cos(x)).series(x, 0, 10)"
   ]
  },
  {
   "cell_type": "code",
   "execution_count": 2,
   "metadata": {
    "collapsed": false
   },
   "outputs": [
    {
     "name": "stdout",
     "output_type": "stream",
     "text": [
      "1/2 1 1/4\n",
      "5/6\n"
     ]
    }
   ],
   "source": [
    "a = Rational(1,2)\n",
    "print a, a*2, a**2\n",
    "b = Rational(1,3)\n",
    "print a + b"
   ]
  },
  {
   "cell_type": "code",
   "execution_count": 68,
   "metadata": {
    "collapsed": false
   },
   "outputs": [
    {
     "name": "stdout",
     "output_type": "stream",
     "text": [
      "1/88817841970012523233890533447265625\n"
     ]
    }
   ],
   "source": [
    "print Rational(2)**50/Rational(10)**50"
   ]
  },
  {
   "cell_type": "code",
   "execution_count": 10,
   "metadata": {
    "collapsed": false
   },
   "outputs": [
    {
     "name": "stdout",
     "output_type": "stream",
     "text": [
      "0 0.5\n"
     ]
    }
   ],
   "source": [
    "print 1/2, 1.0/2"
   ]
  },
  {
   "cell_type": "code",
   "execution_count": 11,
   "metadata": {
    "collapsed": false
   },
   "outputs": [
    {
     "name": "stdout",
     "output_type": "stream",
     "text": [
      "0.5 0.5\n"
     ]
    }
   ],
   "source": [
    "from __future__ import division\n",
    "print 1/2, 1.0/2"
   ]
  },
  {
   "cell_type": "code",
   "execution_count": 69,
   "metadata": {
    "collapsed": false
   },
   "outputs": [
    {
     "name": "stdout",
     "output_type": "stream",
     "text": [
      "pi**2\n"
     ]
    }
   ],
   "source": [
    "print pi**2"
   ]
  },
  {
   "cell_type": "code",
   "execution_count": 13,
   "metadata": {
    "collapsed": false
   },
   "outputs": [
    {
     "name": "stdout",
     "output_type": "stream",
     "text": [
      "3.14159265358979\n",
      "3.141592653589793238462643383279502884197169399375105820974944592307816406286208998628034825342117068\n"
     ]
    }
   ],
   "source": [
    "print pi.evalf()\n",
    "print pi.evalf(100)"
   ]
  },
  {
   "cell_type": "code",
   "execution_count": 15,
   "metadata": {
    "collapsed": false
   },
   "outputs": [
    {
     "name": "stdout",
     "output_type": "stream",
     "text": [
      "True\n",
      "oo\n"
     ]
    }
   ],
   "source": [
    "print oo > 99999\n",
    "print oo + 1"
   ]
  },
  {
   "cell_type": "code",
   "execution_count": 29,
   "metadata": {
    "collapsed": false
   },
   "outputs": [
    {
     "name": "stdout",
     "output_type": "stream",
     "text": [
      "2*x (x + y)**2 x**2 + 2*x*y + y**2\n",
      "x**3 + 3*x**2*y + 3*x*y**2 + y**3\n",
      "y + 1\n",
      "tan(x)\n"
     ]
    }
   ],
   "source": [
    "x = Symbol('x')\n",
    "y = Symbol('y')\n",
    "z = Symbol('z')\n",
    "print x+y+x-y, (x+y)**2, ((x+y)**2).expand()\n",
    "print expand((x + y)**3)\n",
    "\n",
    "#simplify or powsimp (指数の簡単化), trigsimp (三角関数を含む数式), \n",
    "# logcombine, radsimp, togeter.\n",
    "print simplify((x + x*y) / x)\n",
    "print simplify(sin(x)/cos(x))"
   ]
  },
  {
   "cell_type": "code",
   "execution_count": 19,
   "metadata": {
    "collapsed": false
   },
   "outputs": [
    {
     "name": "stdout",
     "output_type": "stream",
     "text": [
      "(y + 1)**2\n",
      "4*y**2\n"
     ]
    }
   ],
   "source": [
    "print ((x+y)**2).subs(x, 1)\n",
    "print ((x+y)**2).subs(x, y)"
   ]
  },
  {
   "cell_type": "code",
   "execution_count": 24,
   "metadata": {
    "collapsed": false
   },
   "outputs": [
    {
     "name": "stdout",
     "output_type": "stream",
     "text": [
      "1/((x + 1)*(x + 2))\n",
      "-1/(x + 2) + 1/(x + 1)\n",
      "1 + 2/(x - 1)\n"
     ]
    }
   ],
   "source": [
    "print       1/( (x+2)*(x+1) )\n",
    "print apart(1/( (x+2)*(x+1) ), x)     #局部的代数式展开\n",
    "print apart((x+1)/(x-1), x)"
   ]
  },
  {
   "cell_type": "code",
   "execution_count": 67,
   "metadata": {
    "collapsed": false
   },
   "outputs": [
    {
     "name": "stdout",
     "output_type": "stream",
     "text": [
      "(x*y + x*z + y*z)/(x*y*z)\n"
     ]
    }
   ],
   "source": [
    "#代数式的合并(相当于展开的逆运算)，使用together(expr, x)\n",
    "print together(1/x + 1/y + 1/z) "
   ]
  },
  {
   "cell_type": "code",
   "execution_count": 8,
   "metadata": {
    "collapsed": false
   },
   "outputs": [
    {
     "name": "stdout",
     "output_type": "stream",
     "text": [
      "1\n",
      "oo\n",
      "0\n",
      "1\n"
     ]
    }
   ],
   "source": [
    "#计算x->0时f(x)的极限，即limit(f, x, 0)\n",
    "print limit(sin(x)/x, x, 0)\n",
    "print limit(x, x, oo)\n",
    "print limit(1/x, x, oo)\n",
    "print limit(x**x, x, 0)"
   ]
  },
  {
   "cell_type": "code",
   "execution_count": 34,
   "metadata": {
    "collapsed": false
   },
   "outputs": [
    {
     "name": "stdout",
     "output_type": "stream",
     "text": [
      "cos(x)\n",
      "2*cos(2*x)\n",
      "tan(x)**2 + 1\n",
      "tan(x)**2 + 1\n"
     ]
    }
   ],
   "source": [
    "#SymPy表达式微分。diff(func, var)\n",
    "print diff(sin(x), x)\n",
    "print diff(sin(2*x), x)\n",
    "print diff(tan(x), x)\n",
    "\n",
    "print limit((tan(x+y)-tan(x))/y, y, 0)"
   ]
  },
  {
   "cell_type": "code",
   "execution_count": 39,
   "metadata": {
    "collapsed": false
   },
   "outputs": [
    {
     "name": "stdout",
     "output_type": "stream",
     "text": [
      "2*cos(2*x)\n",
      "-8*cos(2*x)\n",
      "-8*cos(2*x)\n",
      "20*x**19\n",
      "6704425728000*x**9\n"
     ]
    }
   ],
   "source": [
    "#高阶微分 diff(func, var, n)\n",
    "print diff(sin(2*x), x, 1)\n",
    "print diff(sin(2*x), x, 3)\n",
    "print diff(sin(2*x), x, 3)\n",
    "\n",
    "print diff(x**20, x, 1)\n",
    "print diff(x**20, x, 11)"
   ]
  },
  {
   "cell_type": "code",
   "execution_count": 45,
   "metadata": {
    "collapsed": false
   },
   "outputs": [
    {
     "name": "stdout",
     "output_type": "stream",
     "text": [
      "1 - x**2/2 + x**4/24 - x**6/720 + x**8/40320 + O(x**10)\n",
      "1 + x**2/2 + 5*x**4/24 + 61*x**6/720 + 277*x**8/8064 + O(x**10)\n",
      "O(x**10)\n"
     ]
    }
   ],
   "source": [
    "#级数展开 函数 series(var, point, order)\n",
    "print cos(x).series(x, 0, 10)\n",
    "print (1/cos(x)).series(x, 0, 10)\n",
    "\n",
    "print (x**19).series(x,0,10)"
   ]
  },
  {
   "cell_type": "code",
   "execution_count": 47,
   "metadata": {
    "collapsed": false
   },
   "outputs": [
    {
     "name": "stdout",
     "output_type": "stream",
     "text": [
      "1/y - x/y**2 + x**2/y**3 - x**3/y**4 + x**4/y**5 + O(x**5)\n",
      "\n",
      "          2    3    4        \n",
      "1   x    x    x    x     ⎛ 5⎞\n",
      "─ - ── + ── - ── + ── + O⎝x ⎠\n",
      "y    2    3    4    5        \n",
      "    y    y    y    y         \n"
     ]
    }
   ],
   "source": [
    "e = 1/(x + y)\n",
    "s = e.series(x, 0, 5)\n",
    "print(s)\n",
    "pprint(s)"
   ]
  },
  {
   "cell_type": "code",
   "execution_count": 50,
   "metadata": {
    "collapsed": false
   },
   "outputs": [
    {
     "name": "stdout",
     "output_type": "stream",
     "text": [
      "x**6\n",
      "-cos(x)\n",
      "x*log(x) - x\n",
      "x**2 + cosh(x)\n",
      "sqrt(pi)*erf(x)**2/4\n"
     ]
    }
   ],
   "source": [
    "# SymPy支持不定积分\n",
    "print integrate(6*x**5, x)\n",
    "print integrate(sin(x), x)\n",
    "print integrate(log(x), x)\n",
    "print integrate(2*x + sinh(x), x)\n",
    "\n",
    "print integrate(exp(-x**2)*erf(x), x)"
   ]
  },
  {
   "cell_type": "code",
   "execution_count": 51,
   "metadata": {
    "collapsed": false
   },
   "outputs": [
    {
     "name": "stdout",
     "output_type": "stream",
     "text": [
      "0\n",
      "1\n",
      "2\n",
      "1\n",
      "-1\n"
     ]
    }
   ],
   "source": [
    "# 定积分：\n",
    "print integrate(x**3, (x, -1, 1))\n",
    "print integrate(sin(x), (x, 0, pi/2))\n",
    "print integrate(cos(x), (x, -pi/2, pi/2))\n",
    "\n",
    "print integrate(exp(-x), (x, 0, oo))\n",
    "print integrate(log(x), (x, 0, 1))"
   ]
  },
  {
   "cell_type": "code",
   "execution_count": 55,
   "metadata": {
    "collapsed": false
   },
   "outputs": [
    {
     "name": "stdout",
     "output_type": "stream",
     "text": [
      "exp(I*x)\n",
      "I*exp(-im(x))*sin(re(x)) + exp(-im(x))*cos(re(x))\n"
     ]
    }
   ],
   "source": [
    "# 复数I\n",
    "print exp(I*x).expand()\n",
    "print exp(I*x).expand(complex=True)"
   ]
  },
  {
   "cell_type": "code",
   "execution_count": 57,
   "metadata": {
    "collapsed": false
   },
   "outputs": [
    {
     "name": "stdout",
     "output_type": "stream",
     "text": [
      "I*sin(x) + cos(x)\n"
     ]
    }
   ],
   "source": [
    "x = Symbol(\"x\", real=True)\n",
    "print exp(I*x).expand(complex=True)"
   ]
  },
  {
   "cell_type": "code",
   "execution_count": 71,
   "metadata": {
    "collapsed": false
   },
   "outputs": [
    {
     "name": "stdout",
     "output_type": "stream",
     "text": [
      "sin(x)*cos(y) + sin(y)*cos(x)\n",
      "-sin(x)*sin(y) + cos(x)*cos(y)\n",
      "I*sinh(x)\n",
      "I*sin(x)\n",
      "I*pi/2\n",
      "I*asin(x)\n"
     ]
    }
   ],
   "source": [
    "# 三角函数\n",
    "print sin(x+y).expand(trig=True)\n",
    "print cos(x+y).expand(trig=True)\n",
    "\n",
    "print sin(I*x)\n",
    "print sinh(I*x)\n",
    "print asinh(I)\n",
    "print asinh(I*x)"
   ]
  },
  {
   "cell_type": "code",
   "execution_count": 9,
   "metadata": {
    "collapsed": false
   },
   "outputs": [
    {
     "name": "stdout",
     "output_type": "stream",
     "text": [
      "x - x**3/6 + x**5/120 - x**7/5040 + x**9/362880 + O(x**10)\n",
      "x + x**3/6 + x**5/120 + x**7/5040 + x**9/362880 + O(x**10)\n",
      "x + x**3/6 + 3*x**5/40 + 5*x**7/112 + 35*x**9/1152 + O(x**10)\n",
      "x - x**3/6 + 3*x**5/40 - 5*x**7/112 + 35*x**9/1152 + O(x**10)\n"
     ]
    }
   ],
   "source": [
    "print sin(x).series(x, 0, 10)\n",
    "print sinh(x).series(x, 0, 10)\n",
    "print asin(x).series(x, 0, 10)\n",
    "print asinh(x).series(x, 0, 10)"
   ]
  },
  {
   "cell_type": "code",
   "execution_count": 14,
   "metadata": {
    "collapsed": false
   },
   "outputs": [
    {
     "name": "stdout",
     "output_type": "stream",
     "text": [
      "[-1, 1, -I, I]\n",
      "{x: -3, y: 1}\n",
      "[I*pi]\n"
     ]
    }
   ],
   "source": [
    "# 解方程\n",
    "print solve(x**4 - 1, x)\n",
    "print solve([x + 5*y - 2, -3*x + 6*y - 15], [x, y])\n",
    "print solve(exp(x) + 1, x)"
   ]
  },
  {
   "cell_type": "code",
   "execution_count": 16,
   "metadata": {
    "collapsed": false
   },
   "outputs": [
    {
     "name": "stdout",
     "output_type": "stream",
     "text": [
      "(x**2 - x - 1)*(x**2 + x - 1)\n",
      "(x - 2)**2*(x + 2)**2\n"
     ]
    }
   ],
   "source": [
    "# 多项式分解\n",
    "f = x**4 - 3*x**2 + 1\n",
    "print factor(f)\n",
    "print factor(f, modulus=5)"
   ]
  },
  {
   "cell_type": "code",
   "execution_count": 22,
   "metadata": {
    "collapsed": false
   },
   "outputs": [
    {
     "name": "stdout",
     "output_type": "stream",
     "text": [
      "{True: True}\n",
      "False\n"
     ]
    }
   ],
   "source": [
    "x1 = True\n",
    "x2 = True\n",
    "print satisfiable(x1 & x2)\n",
    "print satisfiable(x1 & ~x1)"
   ]
  },
  {
   "cell_type": "code",
   "execution_count": 38,
   "metadata": {
    "collapsed": false
   },
   "outputs": [
    {
     "name": "stdout",
     "output_type": "stream",
     "text": [
      "⎡1  x⎤\n",
      "⎢    ⎥\n",
      "⎣y  1⎦\n",
      "\n",
      "⎡x⋅y + 1    2⋅x  ⎤\n",
      "⎢                ⎥\n",
      "⎣  2⋅y    x⋅y + 1⎦\n"
     ]
    }
   ],
   "source": [
    "# 矩阵\n",
    "from sympy import Matrix\n",
    "Matrix([[1,0], [0,1]])\n",
    "x = Symbol('x')\n",
    "y = Symbol('y')\n",
    "A = Matrix([[1,x], [y,1]])\n",
    "pprint(A)\n",
    "print \n",
    "pprint(A**2)"
   ]
  }
 ],
 "metadata": {
  "kernelspec": {
   "display_name": "Python [Root]",
   "language": "python",
   "name": "Python [Root]"
  },
  "language_info": {
   "codemirror_mode": {
    "name": "ipython",
    "version": 2
   },
   "file_extension": ".py",
   "mimetype": "text/x-python",
   "name": "python",
   "nbconvert_exporter": "python",
   "pygments_lexer": "ipython2",
   "version": "2.7.12"
  }
 },
 "nbformat": 4,
 "nbformat_minor": 0
}
