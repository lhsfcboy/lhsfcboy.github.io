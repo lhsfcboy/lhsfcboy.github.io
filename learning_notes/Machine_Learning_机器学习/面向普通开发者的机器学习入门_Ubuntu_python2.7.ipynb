{
 "cells": [
  {
   "cell_type": "markdown",
   "metadata": {},
   "source": [
    "##  at Ubuntu with python2.7\n",
    "\n",
    "Ref: http://www.jianshu.com/p/05314e94cee9\n",
    "\n",
    "```\n",
    "sudo apt-get -y install python-pip python-dev python-tk\n",
    "pip install tensorflow matplotlib keras\n",
    "```\n",
    "\n",
    "\n",
    "wget https://gist.github.com/lhsfcboy/8fb4e33ba551d237f8c20f7a48e73c8f/raw/34b2e211380b54aa001fa893486aefbf3f5fe7b3/test_keras.py\n",
    "python test_keras.py\n",
    "\n",
    "wget https://gist.githubusercontent.com/lhsfcboy/8fb4e33ba551d237f8c20f7a48e73c8f/raw/34b2e211380b54aa001fa893486aefbf3f5fe7b3/hello_keras.py\n",
    "python hello_keras.py"
   ]
  }
 ],
 "metadata": {
  "kernelspec": {
   "display_name": "Python 2",
   "language": "python",
   "name": "python2"
  },
  "language_info": {
   "codemirror_mode": {
    "name": "ipython",
    "version": 2
   },
   "file_extension": ".py",
   "mimetype": "text/x-python",
   "name": "python",
   "nbconvert_exporter": "python",
   "pygments_lexer": "ipython2",
   "version": "2.7.12"
  }
 },
 "nbformat": 4,
 "nbformat_minor": 2
}
