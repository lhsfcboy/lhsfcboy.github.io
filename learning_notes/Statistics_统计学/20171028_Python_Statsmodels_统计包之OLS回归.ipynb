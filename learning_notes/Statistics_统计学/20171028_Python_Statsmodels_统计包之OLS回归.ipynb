{
 "cells": [
  {
   "cell_type": "markdown",
   "metadata": {},
   "source": [
    "Ref: https://zhuanlan.zhihu.com/p/22692029"
   ]
  },
  {
   "cell_type": "code",
   "execution_count": 1,
   "metadata": {},
   "outputs": [
    {
     "name": "stderr",
     "output_type": "stream",
     "text": [
      "C:\\Users\\Mike\\Anaconda3\\lib\\site-packages\\statsmodels\\compat\\pandas.py:56: FutureWarning: The pandas.core.datetools module is deprecated and will be removed in a future version. Please use the pandas.tseries module instead.\n",
      "  from pandas.core import datetools\n"
     ]
    }
   ],
   "source": [
    "import numpy as np\n",
    "import matplotlib.pyplot as plt\n",
    "import statsmodels.api as sm"
   ]
  },
  {
   "cell_type": "markdown",
   "metadata": {},
   "source": [
    "假设我们有回归模型 Y=β0+β1X1+⋯+βnXn+ε,并且有 k 组数据。\n",
    "OLS 回归用于计算回归系数 βi 的估值 b0,b1,…,bn，使误差平方\n",
    "![](images/OLS_square_item.png)最小化。\n",
    "\n",
    "\n",
    "statsmodels.OLS 的输入有 (endog, exog, missing, hasconst) 四个，我们现在只考虑前两个。第一个输入 endog 是回归中的反应变量（也称因变量），是上面模型中的 y(t), 输入是一个长度为 k 的 array。第二个输入 exog 则是回归变量（也称自变量）的值，即模型中的x1(t),…,xn(t)。但是要注意，statsmodels.OLS 不会假设回归模型有常数项，所以我们应该假设模型是\n",
    "![](images/OLS_model.png)\n",
    "\n",
    "并且在数据中，对于所有 t=1,…,k，设置 x0(t)=1。因此，exog的输入是一个 k×(n+1) 的 array，其中最左一列的数值全为 1。往往输入的数据中，没有专门的数值全为1的一列，Statmodels 有直接解决这个问题的函数：sm.add_constant()。它会在一个 array 左侧加上一列 1。（本文中所有输入 array 的情况也可以使用同等的 list、pd.Series 或 pd.DataFrame。）\n",
    "\n",
    "确切地说，statsmodels.OLS 是 statsmodels.regression.linear_model 里的一个函数（从这个命名也能看出，statsmodel 有很多很多功能，其中的一项叫回归）。它的输出结果是一个 statsmodels.regression.linear_model.OLS，只是一个类，并没有进行任何运算。在 OLS 的模型之上调用拟合函数 fit()，才进行回归运算，并且得到 statsmodels.regression.linear_model.RegressionResultsWrapper，它包含了这组数据进行回归拟合的结果摘要。调用 params 可以查看计算出的回归系数 b0,b1,…,bn。\n",
    "\n",
    "简单的线性回归\n",
    "\n",
    "上面的介绍绕了一个大圈圈，现在我们来看一个例子，假设回归公式是:\n",
    "Y = 1 + 10X\n",
    "\n",
    "我们从最简单的一元模型开始，虚构一组数据。首先设定数据量，也就是上面的 k 值。\n",
    "然后创建一个 array，是上面的 x1 的数据。这里，我们想要 x1 的值从 0 到 10 等差排列。\n",
    "使用 sm.add_constant() 在 array 上加入一列常项1。\n",
    "然后设置模型里的 β0,β1，这里要设置成 1,10。\n",
    "然后还要在数据中加上误差项，所以生成一个长度为k的正态分布样本。\n",
    "由此，我们生成反应项 y(t)。"
   ]
  },
  {
   "cell_type": "code",
   "execution_count": 2,
   "metadata": {
    "collapsed": true
   },
   "outputs": [],
   "source": [
    "nsample = 100\n",
    "x = np.linspace(0, 10, nsample)\n",
    "X = sm.add_constant(x)\n",
    "\n",
    "beta = np.array([1, 10])\n",
    "e = np.random.normal(size=nsample)\n",
    "y = np.dot(X, beta) + e\n"
   ]
  },
  {
   "cell_type": "raw",
   "metadata": {},
   "source": [
    "在反应变量和回归变量上使用 OLS() 函数。\n",
    "然后获取拟合结果。\n",
    "调取计算出的回归系数。\n",
    "也可以将回归拟合的摘要全部打印出来。"
   ]
  },
  {
   "cell_type": "code",
   "execution_count": 4,
   "metadata": {},
   "outputs": [
    {
     "name": "stdout",
     "output_type": "stream",
     "text": [
      "[ 1.21791967  9.94379615]\n",
      "                            OLS Regression Results                            \n",
      "==============================================================================\n",
      "Dep. Variable:                      y   R-squared:                       0.999\n",
      "Model:                            OLS   Adj. R-squared:                  0.999\n",
      "Method:                 Least Squares   F-statistic:                 1.104e+05\n",
      "Date:                Mon, 30 Oct 2017   Prob (F-statistic):          2.21e-151\n",
      "Time:                        03:07:58   Log-Likelihood:                -127.24\n",
      "No. Observations:                 100   AIC:                             258.5\n",
      "Df Residuals:                      98   BIC:                             263.7\n",
      "Df Model:                           1                                         \n",
      "Covariance Type:            nonrobust                                         \n",
      "==============================================================================\n",
      "                 coef    std err          t      P>|t|      [0.025      0.975]\n",
      "------------------------------------------------------------------------------\n",
      "const          1.2179      0.173      7.032      0.000       0.874       1.562\n",
      "x1             9.9438      0.030    332.311      0.000       9.884      10.003\n",
      "==============================================================================\n",
      "Omnibus:                        2.291   Durbin-Watson:                   2.316\n",
      "Prob(Omnibus):                  0.318   Jarque-Bera (JB):                1.767\n",
      "Skew:                           0.156   Prob(JB):                        0.413\n",
      "Kurtosis:                       2.428   Cond. No.                         11.7\n",
      "==============================================================================\n",
      "\n",
      "Warnings:\n",
      "[1] Standard Errors assume that the covariance matrix of the errors is correctly specified.\n"
     ]
    }
   ],
   "source": [
    "model = sm.OLS(y,X)\n",
    "results = model.fit()\n",
    "print(results.params)\n",
    "print(results.summary())"
   ]
  },
  {
   "cell_type": "markdown",
   "metadata": {},
   "source": [
    "还可以将拟合结果画出来。先调用拟合结果的 fittedvalues 得到拟合的 y 值。\n",
    "画出原数据，图像为圆点，默认颜色为蓝。\n",
    "画出拟合数据，图像为红色带点间断线。\n",
    "放置注解。"
   ]
  },
  {
   "cell_type": "code",
   "execution_count": 22,
   "metadata": {},
   "outputs": [
    {
     "data": {
      "text/plain": [
       "<matplotlib.legend.Legend at 0xc7a1c88>"
      ]
     },
     "execution_count": 22,
     "metadata": {},
     "output_type": "execute_result"
    },
    {
     "data": {
      "image/png": "[encoded data removed]",
      "text/plain": [
       "<matplotlib.figure.Figure at 0xc6c6358>"
      ]
     },
     "metadata": {},
     "output_type": "display_data"
    }
   ],
   "source": [
    "y_fitted = results.fittedvalues\n",
    "fig, ax = plt.subplots(figsize=(8,6))\n",
    "# https://matplotlib.org/devdocs/api/_as_gen/matplotlib.pyplot.subplots.html\n",
    "#  fig : matplotlib.figure.Figure object\n",
    "#  ax : Axes object or array of Axes objects.\n",
    "    \n",
    "ax.plot(x, y, 'o', label='data')\n",
    "ax.plot(x, y_fitted, 'r--.',label='OLS')\n",
    "ax.legend(loc='best')"
   ]
  },
  {
   "cell_type": "markdown",
   "metadata": {},
   "source": [
    "在 0 到 2 的区间放大一下，可以见数据和拟合的关系。"
   ]
  },
  {
   "cell_type": "code",
   "execution_count": 26,
   "metadata": {},
   "outputs": [
    {
     "data": {
      "text/plain": [
       "(-1, 25)"
      ]
     },
     "execution_count": 26,
     "metadata": {},
     "output_type": "execute_result"
    },
    {
     "data": {
      "image/png": "[encoded data removed]",
      "text/plain": [
       "<matplotlib.figure.Figure at 0xc9c2a90>"
      ]
     },
     "metadata": {},
     "output_type": "display_data"
    }
   ],
   "source": [
    "plt.plot(x, y, 'o', label='data')\n",
    "plt.plot(x, y_fitted, 'r--.',label='OLS')\n",
    "plt.legend(loc='best')\n",
    "plt.xlim(-0.05, 2)\n",
    "plt.ylim(-1, 25)"
   ]
  },
  {
   "cell_type": "markdown",
   "metadata": {},
   "source": [
    "## 高次模型的回归\n",
    "\n",
    "假设反应变量 Y 和回归变量 X 的关系是高次的多项式，即\n",
    "Y = beta0 + beta1 X + beta2 X^2 + betan X^n\n",
    "![](OLS_model_high_order.png)\n",
    "我们依然可以使用 OLS 进行线性回归。但前提条件是，我们必须知道 X 在这个关系中的所有次方数。\n",
    "虽然 X 和 Y 的关系不是线性的，但是 Y 和 X, X^2, ... ,X^n的关系是高元线性的。也就是说，只要我们把高次项当做其他的自变量，即设X_1=X, X_2=X^2, X_3=x^3\n",
    "那么就回到了![](OLS_model.png)\n",
    "\n",
    "举个例子： Y = 1 + 0.1 X + 10 X^2"
   ]
  },
  {
   "cell_type": "markdown",
   "metadata": {},
   "source": [
    "首先设定数据量，也就是上面的 k 值。\n",
    "\n",
    "然后创建一个 array，是上面的 x1 的数据。这里，我们想要 x1 的值从 0 到 10 等差排列。\n",
    "\n",
    "再创建一个 k×2 的 array，两列分别为 x1 和 x2。我们需要 x2 为 x1 的平方。\n",
    "\n",
    "使用 sm.add_constant() 在 array 上加入一列常项 1。\n",
    "\n",
    "然后设置模型里的 β0,β1,β2，我们想设置成 1,0.1,10。\n",
    "\n",
    "然后还要在数据中加上误差项，所以生成一个长度为k的正态分布样本。\n",
    "\n",
    "\n",
    "由此，我们生成反应项 y(t)，它与 x1(t) 是二次多项式关系。\n",
    "\n",
    "\n",
    "在反应变量和回归变量上使用 OLS() 函数。\n",
    "\n",
    "然后获取拟合结果。\n",
    "再调取计算出的回归系数。\n",
    "\n",
    "\n",
    "得到\n",
    "\n",
    "[ 0.95119465, 0.10235581, 9.9998477]\n",
    "获取全部摘要"
   ]
  },
  {
   "cell_type": "code",
   "execution_count": 27,
   "metadata": {},
   "outputs": [
    {
     "name": "stdout",
     "output_type": "stream",
     "text": [
      "[  1.08310664  -0.08027884  10.0277416 ]\n",
      "                            OLS Regression Results                            \n",
      "==============================================================================\n",
      "Dep. Variable:                      y   R-squared:                       1.000\n",
      "Model:                            OLS   Adj. R-squared:                  1.000\n",
      "Method:                 Least Squares   F-statistic:                 4.686e+06\n",
      "Date:                Mon, 30 Oct 2017   Prob (F-statistic):          1.67e-242\n",
      "Time:                        04:10:53   Log-Likelihood:                -138.99\n",
      "No. Observations:                 100   AIC:                             284.0\n",
      "Df Residuals:                      97   BIC:                             291.8\n",
      "Df Model:                           2                                         \n",
      "Covariance Type:            nonrobust                                         \n",
      "==============================================================================\n",
      "                 coef    std err          t      P>|t|      [0.025      0.975]\n",
      "------------------------------------------------------------------------------\n",
      "const          1.0831      0.290      3.734      0.000       0.507       1.659\n",
      "x1            -0.0803      0.134     -0.599      0.551      -0.346       0.186\n",
      "x2            10.0277      0.013    773.031      0.000      10.002      10.053\n",
      "==============================================================================\n",
      "Omnibus:                        0.854   Durbin-Watson:                   1.821\n",
      "Prob(Omnibus):                  0.653   Jarque-Bera (JB):                0.525\n",
      "Skew:                           0.167   Prob(JB):                        0.769\n",
      "Kurtosis:                       3.123   Cond. No.                         144.\n",
      "==============================================================================\n",
      "\n",
      "Warnings:\n",
      "[1] Standard Errors assume that the covariance matrix of the errors is correctly specified.\n"
     ]
    }
   ],
   "source": [
    "\n",
    "nsample = 100\n",
    "x = np.linspace(0, 10, nsample)\n",
    "X = np.column_stack((x, x**2))\n",
    "X = sm.add_constant(X)\n",
    "beta = np.array([1, 0.1, 10])\n",
    "e = np.random.normal(size=nsample)\n",
    "y = np.dot(X, beta) + e\n",
    "\n",
    "\n",
    "\n",
    "model = sm.OLS(y,X)\n",
    "results = model.fit()\n",
    "print(results.params)\n",
    "print(results.summary())"
   ]
  },
  {
   "cell_type": "markdown",
   "metadata": {},
   "source": [
    "## 哑变量\n",
    "\n",
    "一般而言，有连续取值的变量叫做连续变量，它们的取值可以是任何的实数，或者是某一区间里的任何实数，比如股价、时间、身高。但有些性质不是连续的，只有有限个取值的可能性，一般是用于分辨类别，比如性别、婚姻情况、股票所属行业，表达这些变量叫做分类变量。在回归分析中，我们需要将分类变量转化为哑变量(dummy variable)。\n",
    "\n",
    "如果我们想表达一个有 d 种取值的分类变量，那么它所对应的哑变量的取值是一个 d 元组（可以看成一个长度为 d 的向量），其中有一个元素为 1，其他都是 0。元素呈现出 1 的位置就是变量所取的类别。比如说，某个分类变量的取值是 {a,b,c,d}，那么类别 a 对应的哑变量是(1,0,0,0)，b 对应 (0,1,0,0)，c 对应 (0,0,1,0)，d 对应 (0,0,0,1)。这么做的用处是，假如 a、b、c、d 四种情况分别对应四个系数 β0,β1,β2,β3，设 (x0,x1,x2,x3) 是一个取值所对应的哑变量，那么\n",
    "![](images/beta_times_x.png)\n",
    "可以直接得出相应的系数\n",
    "\n",
    "可以理解为，分类变量的取值本身只是分类，无法构成任何线性关系，但是若映射到高元的 0,1 点上，便可以用线性关系表达，从而进行回归。"
   ]
  },
  {
   "cell_type": "markdown",
   "metadata": {},
   "source": [
    "Statsmodels 里有一个函数 categorical() 可以直接把类别 {0,1,…,d-1} 转换成所对应的元组。确切地说，sm.categorical() 的输入有 (data, col, dictnames, drop) 四个。其中，data 是一个 k×1 或 k×2 的 array，其中记录每一个样本的分类变量取值。drop 是一个 Bool值，意义为是否在输出中丢掉样本变量的值。中间两个输入可以不用在意。这个函数的输出是一个k×d 的 array（如果 drop=False，则是k×(d+1)），其中每一行是所对应的样本的哑变量；这里 d 是 data 中分类变量的类别总数。"
   ]
  },
  {
   "cell_type": "markdown",
   "metadata": {},
   "source": [
    "我们来举一个例子。这里假设一个反应变量 Y 对应连续自变量 X 和一个分类变量 Z。常项系数为 10，XX 的系数为 1；Z 有 {a,b,c}三个种类，其中 a 类有系数 1，b 类有系数 3，c 类有系数 8。也就是说，将 Z 转换为哑变量 (Z1,Z2,Z3)，其中 Zi 取值于 0,1，有线性公式\n",
    "\n",
    "Y = 10 + X + Z_1 + 3 Z_2 + 8 Z_3\n",
    "\n",
    "先定义样本数量为 50。\n",
    "设定分类变量的 array。前 20 个样本分类为 a。\n",
    "之后的 20 个样本分类为 b。\n",
    "最后 10 个是 c 类。\n",
    "转变成哑变量。\n",
    "\n",
    "创建一组连续变量，是 50 个从 0 到 20 递增的值。\n",
    "将连续变量和哑变量的 array 合并，并加上一列常项。\n",
    "\n",
    "定义回归系数。我们想设定常项系数为 10，唯一的连续变量的系数为 1，并且分类变量的三种分类 a、b、c 的系数分别为 1,3,8。\n",
    "\n",
    "再生成一个正态分布的噪音样本。\n",
    "最后，生成反映变量。\n",
    "\n",
    "得到了虚构数据后，放入 OLS 模型并进行拟合运算。"
   ]
  },
  {
   "cell_type": "code",
   "execution_count": 29,
   "metadata": {},
   "outputs": [
    {
     "name": "stdout",
     "output_type": "stream",
     "text": [
      "                            OLS Regression Results                            \n",
      "==============================================================================\n",
      "Dep. Variable:                      y   R-squared:                       0.984\n",
      "Model:                            OLS   Adj. R-squared:                  0.983\n",
      "Method:                 Least Squares   F-statistic:                     918.3\n",
      "Date:                Mon, 30 Oct 2017   Prob (F-statistic):           4.92e-41\n",
      "Time:                        04:17:36   Log-Likelihood:                -74.498\n",
      "No. Observations:                  50   AIC:                             157.0\n",
      "Df Residuals:                      46   BIC:                             164.6\n",
      "Df Model:                           3                                         \n",
      "Covariance Type:            nonrobust                                         \n",
      "==============================================================================\n",
      "                 coef    std err          t      P>|t|      [0.025      0.975]\n",
      "------------------------------------------------------------------------------\n",
      "const         10.4294      0.634     16.446      0.000       9.153      11.706\n",
      "x1             1.0100      0.073     13.842      0.000       0.863       1.157\n",
      "x2             0.4427      0.402      1.101      0.277      -0.367       1.252\n",
      "x3             2.3989      0.336      7.137      0.000       1.722       3.075\n",
      "x4             7.5879      0.757     10.021      0.000       6.064       9.112\n",
      "==============================================================================\n",
      "Omnibus:                        0.752   Durbin-Watson:                   1.937\n",
      "Prob(Omnibus):                  0.687   Jarque-Bera (JB):                0.855\n",
      "Skew:                          -0.222   Prob(JB):                        0.652\n",
      "Kurtosis:                       2.539   Cond. No.                     2.60e+17\n",
      "==============================================================================\n",
      "\n",
      "Warnings:\n",
      "[1] Standard Errors assume that the covariance matrix of the errors is correctly specified.\n",
      "[2] The smallest eigenvalue is  1e-31. This might indicate that there are\n",
      "strong multicollinearity problems or that the design matrix is singular.\n"
     ]
    }
   ],
   "source": [
    "nsample = 50\n",
    "\n",
    "groups = np.zeros(nsample, int)\n",
    "groups[20:40] = 1\n",
    "groups[40:] = 2\n",
    "dummy = sm.categorical(groups, drop=True)\n",
    "\n",
    "\n",
    "\n",
    "x = np.linspace(0, 20, nsample)\n",
    "X = np.column_stack((x, dummy))\n",
    "X = sm.add_constant(X)\n",
    "\n",
    "beta = [10, 1, 1, 3, 8]\n",
    "\n",
    "e = np.random.normal(size=nsample)\n",
    "\n",
    "y = np.dot(X, beta) + e\n",
    "\n",
    "\n",
    "result = sm.OLS(y,X).fit()\n",
    "print(result.summary())"
   ]
  },
  {
   "cell_type": "code",
   "execution_count": 30,
   "metadata": {},
   "outputs": [
    {
     "data": {
      "text/plain": [
       "<matplotlib.legend.Legend at 0xcaf34a8>"
      ]
     },
     "execution_count": 30,
     "metadata": {},
     "output_type": "execute_result"
    },
    {
     "data": {
      "image/png": "[encoded data removed]",
      "text/plain": [
       "<matplotlib.figure.Figure at 0xca58358>"
      ]
     },
     "metadata": {},
     "output_type": "display_data"
    }
   ],
   "source": [
    "fig, ax = plt.subplots(figsize=(8,6))\n",
    "ax.plot(x, y, 'o', label=\"data\")\n",
    "ax.plot(x, result.fittedvalues, 'r--.', label=\"OLS\")\n",
    "ax.legend(loc='best')"
   ]
  },
  {
   "cell_type": "markdown",
   "metadata": {},
   "source": [
    "这里要指出，哑变量是和其他自变量并行的影响因素，也就是说，哑变量和原先的 x 同时影响了回归的结果。初学者往往会误解这一点，认为哑变量是一个选择变量：也就是说，上图中给出的回归结果，是在只做了一次回归的情况下完成的，而不是分成３段进行３次回归。哑变量的取值藏在其他的三个维度中。可以理解成：上图其实是将高元的回归结果映射到平面上之后得到的图。"
   ]
  }
 ],
 "metadata": {
  "kernelspec": {
   "display_name": "Python 3",
   "language": "python",
   "name": "python3"
  },
  "language_info": {
   "codemirror_mode": {
    "name": "ipython",
    "version": 3
   },
   "file_extension": ".py",
   "mimetype": "text/x-python",
   "name": "python",
   "nbconvert_exporter": "python",
   "pygments_lexer": "ipython3",
   "version": "3.5.2"
  }
 },
 "nbformat": 4,
 "nbformat_minor": 2
}
