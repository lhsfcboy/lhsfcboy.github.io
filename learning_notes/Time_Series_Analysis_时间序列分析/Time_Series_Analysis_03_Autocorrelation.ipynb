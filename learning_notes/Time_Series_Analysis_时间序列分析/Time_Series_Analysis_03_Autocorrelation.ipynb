{
 "cells": [
  {
   "cell_type": "markdown",
   "metadata": {},
   "source": [
    "https://zhuanlan.zhihu.com/p/26525852?group_id=839528625438085120\n",
    "\n",
    "http://nanshu.wang/post/2015-03-15/\n",
    "\n",
    "[时间序列分析][3]--自相关系数和偏自相关系数\n",
    "\n",
    " \n",
    " \n",
    " <img src=\"files/cov_corrcoef.png\">\n",
    " <img src=\"files/cov_corrcoef_explain.png\">\n",
    " \n",
    " 当相关系数为0时，x与y可能存在别的关系"
   ]
  },
  {
   "cell_type": "code",
   "execution_count": null,
   "metadata": {
    "collapsed": true
   },
   "outputs": [],
   "source": [
    "import numpy as np\n",
    "import matplotlib.pyplot as plt\n",
    "%matplotlib inline \n",
    "\n",
    "X = np.arange(-10,11)\n",
    "Y = 50-np.square(X)\n",
    "\n",
    "print (X,'\\n',Y)\n",
    "\n",
    "XY= np.vstack((X,Y))\n",
    "plt.plot(X, Y)\n",
    "print ( cov(XY) )\n",
    "print ( cov(X,Y) )\n",
    "# https://docs.scipy.org/doc/numpy/reference/generated/numpy.cov.html\n",
    "# 注意结果的C_00 是X的样本方差, C_11是Y的样本方差\n",
    "# cov(X,1)  和  cov(X,Y,1) 与之前的求解过程一致，不同的是，\n",
    "#  其求出的是协方差，而不是样本的协方差无偏估计值，即其除以的是N 而不是N-1\n",
    "print ( np.cov(X) )  # 样本协方差的无偏估计值(除以N-1)\n",
    "print ( np.var(X) )  # 总体方差(除以N)\n",
    "print ( sum(np.power(X-np.mean(X),2))/(X.size-1) )\n",
    "print ( sum(np.power(X-np.mean(X),2))/X.size )\n"
   ]
  },
  {
   "cell_type": "code",
   "execution_count": 28,
   "metadata": {
    "collapsed": true
   },
   "outputs": [],
   "source": []
  }
 ],
 "metadata": {
  "kernelspec": {
   "display_name": "Python 3",
   "language": "python",
   "name": "python3"
  },
  "language_info": {
   "codemirror_mode": {
    "name": "ipython",
    "version": 3
   },
   "file_extension": ".py",
   "mimetype": "text/x-python",
   "name": "python",
   "nbconvert_exporter": "python",
   "pygments_lexer": "ipython3",
   "version": "3.5.2"
  }
 },
 "nbformat": 4,
 "nbformat_minor": 2
}
