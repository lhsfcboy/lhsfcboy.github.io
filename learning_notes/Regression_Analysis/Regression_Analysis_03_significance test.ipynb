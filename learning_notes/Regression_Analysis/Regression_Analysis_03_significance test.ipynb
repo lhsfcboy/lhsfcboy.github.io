{
 "cells": [
  {
   "cell_type": "raw",
   "metadata": {},
   "source": [
    "# 【回归分析】[3]--回归方程的显著性检验"
   ]
  },
  {
   "cell_type": "raw",
   "metadata": {},
   "source": [
    "p値とは？\n",
    "\n",
    "目的変数に対して、ある説明変数がまったく効果がない場合。\n",
    "分析結果で表示される係数は、「0」だろうと推定しませんか？\n",
    "p値とは、回帰分析で求められたある変数の係数の値がAだった場合、「本当はまったく効果がない場合（係数が0）に、実際に分析して出る係数の値がA以上になる確率」を表しています。\n",
    "「どのくらいp値が小さければ、効果がないという仮説を否定してよいか」の基準は、通常0.05となっています\n",
    "\n",
    "p値はt値と「自由度」（サンプルサイズと、分析に使う説明変数の数から求められる数字）から求めることができます。さらに、p値と自由度からt値を復元することもできるため、両者をあまり区別する必要はなく、通常はp値だけ見れば問題ありません。t値は、分析の有位性をサポートする数値\n",
    "「t値が大きいほどp値が小さい」という関係があります。t値が大きいほど「その説明変数が目的変数の予測に本当に有効」と主張できる可能性が高まります。\n",
    "また、「係数が大きいほど」「（重）回帰分析での目的変数の予測値と実際の値の差（誤差）が小さいほど」、t値が大きくなるという関係もあります。\n",
    "つまり、係数が大きい（効果が大きいと推定される）、誤差が小さい（正確に目的変数を予測できている）ほど予測に有効であると言える確率が高まるのです。\n"
   ]
  },
  {
   "cell_type": "code",
   "execution_count": 5,
   "metadata": {},
   "outputs": [
    {
     "name": "stdout",
     "output_type": "stream",
     "text": [
      "[ 1.00296115  9.98847573]\n",
      "                            OLS Regression Results                            \n",
      "==============================================================================\n",
      "Dep. Variable:                      y   R-squared:                       0.999\n",
      "Model:                            OLS   Adj. R-squared:                  0.999\n",
      "Method:                 Least Squares   F-statistic:                 8.046e+04\n",
      "Date:                Fri, 19 May 2017   Prob (F-statistic):          1.19e-144\n",
      "Time:                        20:01:08   Log-Likelihood:                -143.52\n",
      "No. Observations:                 100   AIC:                             291.0\n",
      "Df Residuals:                      98   BIC:                             296.3\n",
      "Df Model:                           1                                         \n",
      "Covariance Type:            nonrobust                                         \n",
      "==============================================================================\n",
      "                 coef    std err          t      P>|t|      [0.025      0.975]\n",
      "------------------------------------------------------------------------------\n",
      "const          1.0030      0.204      4.921      0.000       0.599       1.407\n",
      "x1             9.9885      0.035    283.663      0.000       9.919      10.058\n",
      "==============================================================================\n",
      "Omnibus:                        0.740   Durbin-Watson:                   1.861\n",
      "Prob(Omnibus):                  0.691   Jarque-Bera (JB):                0.339\n",
      "Skew:                          -0.093   Prob(JB):                        0.844\n",
      "Kurtosis:                       3.216   Cond. No.                         11.7\n",
      "==============================================================================\n",
      "\n",
      "Warnings:\n",
      "[1] Standard Errors assume that the covariance matrix of the errors is correctly specified.\n"
     ]
    },
    {
     "data": {
      "text/plain": [
       "array([   4.92101118,  283.66305462])"
      ]
     },
     "execution_count": 5,
     "metadata": {},
     "output_type": "execute_result"
    }
   ],
   "source": [
    "# coding:utf-8\n",
    "\n",
    "import numpy as np\n",
    "import matplotlib.pyplot as plt\n",
    "%matplotlib inline \n",
    "import statsmodels.api as sm\n",
    "# Say Y = 1 + 10*X\n",
    "nsample = 100\n",
    "x = np.linspace(0, 10, nsample)\n",
    "X = sm.add_constant(x)\n",
    "beta = np.array([1, 10])\n",
    "e = np.random.normal(size=nsample)\n",
    "y = np.dot(X, beta) + e\n",
    "model = sm.OLS(y,X)\n",
    "results = model.fit()\n",
    "print(results.params)\n",
    "print(results.summary())\n",
    "# dir(results)\n",
    "results.pvalues\n",
    "results.tvalues\n",
    "# 中间偏下的 coef 列就是计算出的回归系数\n",
    "        # y_fitted = results.fittedvalues\n",
    "        # fig, ax = plt.subplots(figsize=(8,6))\n",
    "        # ax.plot(x, y, 'o', label='data')\n",
    "        # ax.plot(x, y_fitted, 'r--.',label='OLS')\n",
    "        # ax.legend(loc='best')\n",
    "        # ax.axis((-0.05, 2, -1, 25))"
   ]
  },
  {
   "cell_type": "raw",
   "metadata": {},
   "source": [
    "F检验\n",
    "F检验是根据平方和分解式，直接从回归效果检验回归方程的显著性\n",
    "\n",
    "SST               =  SSR         +       SSE\n",
    "总离差平方和    回归平方和        残差平方和"
   ]
  }
 ],
 "metadata": {
  "kernelspec": {
   "display_name": "Python 3",
   "language": "python",
   "name": "python3"
  },
  "language_info": {
   "codemirror_mode": {
    "name": "ipython",
    "version": 3
   },
   "file_extension": ".py",
   "mimetype": "text/x-python",
   "name": "python",
   "nbconvert_exporter": "python",
   "pygments_lexer": "ipython3",
   "version": "3.5.2"
  }
 },
 "nbformat": 4,
 "nbformat_minor": 2
}
