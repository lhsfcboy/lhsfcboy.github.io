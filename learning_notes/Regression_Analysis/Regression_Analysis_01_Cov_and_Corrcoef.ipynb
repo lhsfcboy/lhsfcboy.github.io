{
 "cells": [
  {
   "cell_type": "markdown",
   "metadata": {},
   "source": [
    "http://blog.csdn.net/wmn7q/article/details/52594607\n",
    "\n",
    "【回归分析】[1]--协方差与相关系数\n",
    "\n",
    " \n",
    " \n",
    " <img src=\"files/cov_corrcoef.png\">\n",
    " <img src=\"files/cov_corrcoef_explain.png\">\n",
    " \n",
    " 当相关系数为0时，x与y可能存在别的关系"
   ]
  },
  {
   "cell_type": "code",
   "execution_count": 59,
   "metadata": {},
   "outputs": [
    {
     "name": "stdout",
     "output_type": "stream",
     "text": [
      "[-10  -9  -8  -7  -6  -5  -4  -3  -2  -1   0   1   2   3   4   5   6   7\n",
      "   8   9  10] \n",
      " [-50 -31 -14   1  14  25  34  41  46  49  50  49  46  41  34  25  14   1\n",
      " -14 -31 -50]\n"
     ]
    },
    {
     "data": {
      "text/plain": [
       "[<matplotlib.lines.Line2D at 0x7f3aa92fbf98>]"
      ]
     },
     "execution_count": 59,
     "metadata": {},
     "output_type": "execute_result"
    },
    {
     "data": {
      "image/png": "[encoded data removed]",
      "text/plain": [
       "<matplotlib.figure.Figure at 0x7f3aa8686a90>"
      ]
     },
     "metadata": {},
     "output_type": "display_data"
    }
   ],
   "source": [
    "# coding:utf-8\n",
    "\n",
    "import numpy as np\n",
    "import matplotlib.pyplot as plt\n",
    "%matplotlib inline \n",
    "\n",
    "X = np.arange(-10,11)\n",
    "Y = 50-np.square(X)\n",
    "print (X,'\\n',Y)\n",
    "\n",
    "plt.plot(X, Y)"
   ]
  },
  {
   "cell_type": "code",
   "execution_count": 69,
   "metadata": {},
   "outputs": [
    {
     "name": "stdout",
     "output_type": "stream",
     "text": [
      "<class 'numpy.ndarray'>\n",
      "[[  3.85000000e+01  -5.68434189e-15]\n",
      " [ -5.68434189e-15   1.12163333e+03]]\n",
      "[[  3.85000000e+01  -5.68434189e-15]\n",
      " [ -5.68434189e-15   1.12163333e+03]]\n",
      "38.5\n",
      "36.6666666667\n",
      "X的样本方差: 38.5\n",
      "X的总体方差: 36.6666666667\n",
      "X,Y的样本协方差: 5.68434188608e-15\n",
      "X,Y的总体协方差: 5.41365893912e-15\n",
      "np.cov(X)*(n-1)/n = np.var(X) 36.6666666667\n",
      "36.666666666666664\n",
      "38.5\n"
     ]
    }
   ],
   "source": [
    "XY= np.vstack((X,Y))\n",
    "print(type(XY))\n",
    "print ( np.cov(XY) )\n",
    "print ( np.cov(X,Y) )\n",
    "# 注意结果的C_00 是X的样本方差, C_11是Y的样本方差\n",
    "# cov(X,1)  和  cov(X,Y,1) 与之前的求解过程一致，不同的是，\n",
    "#  其求出的是协方差，而不是样本的协方差无偏估计值，即其除以的是N 而不是N-1\n",
    "print ( np.cov(X) )  # 样本协方差的无偏估计值(除以N-1)\n",
    "# print ( np.cov(X,1) )\n",
    "print ( np.var(X) )  # 总体方差(除以N)\n",
    "print ( \"X的样本方差:\",sum(np.power(X-np.mean(X),2))/(X.size-1) )\n",
    "print ( \"X的总体方差:\",sum(np.power(X-np.mean(X),2))/X.size )\n",
    "print ( \"X,Y的样本协方差:\",sum((X-np.mean(X))*(Y-np.mean(Y)) )/(X.size-1) )\n",
    "print ( \"X,Y的总体协方差:\",sum((X-np.mean(X))*(Y-np.mean(Y)) )/X.size )\n",
    "print ( \"np.cov(X)*(n-1)/n = np.var(X)\", np.cov(X)*(X.size-1)/X.size )\n",
    "\n",
    "# bias : bool, optional\n",
    "# Default normalization (False) is by (N - 1)\n",
    "# If bias is True, then normalization is by N.\n",
    "# https://docs.scipy.org/doc/numpy/reference/generated/numpy.cov.html\n",
    "print (np.cov(X,bias=True))\n",
    "# ddof : int, optional\n",
    "# “Delta Degrees of Freedom”: the divisor used in the calculation is N - ddof, \n",
    "# By default ddof is zero.\n",
    "# https://docs.scipy.org/doc/numpy-1.12.0/reference/generated/numpy.var.html\n",
    "print ( np.var(X,ddof=1) )    "
   ]
  }
 ],
 "metadata": {
  "kernelspec": {
   "display_name": "Python 3",
   "language": "python",
   "name": "python3"
  },
  "language_info": {
   "codemirror_mode": {
    "name": "ipython",
    "version": 3
   },
   "file_extension": ".py",
   "mimetype": "text/x-python",
   "name": "python",
   "nbconvert_exporter": "python",
   "pygments_lexer": "ipython3",
   "version": "3.5.2"
  }
 },
 "nbformat": 4,
 "nbformat_minor": 2
}
